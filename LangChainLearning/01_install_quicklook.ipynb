{
 "cells": [
  {
   "cell_type": "markdown",
   "metadata": {},
   "source": [
    "## 总览\n",
    "- LangChain 是一个全方位的、基于大语言模型这种预测能力的应用开发工具\n",
    "- LangChain 本质上就是对各种大模型提供的 API 的套壳，是为了方便我们使用这些 API，搭建起来的一些框架、模块和接口。\n",
    "![image.png](http://pic.dellyqiao.com:3011//202405020945282.png)\n",
    "\n",
    "\n",
    "\n",
    "## LangChain 中的具体组件包括：\n",
    "\n",
    "- 模型（Models），包含各大语言模型的 LangChain 接口和调用细节，以及输出解析机制。\n",
    "- 提示模板（Prompts），使提示工程流线化，进一步激发大语言模型的潜力。\n",
    "- 数据检索（Indexes），构建并操作文档的方法，接受用户的查询并返回最相关的文档，轻松搭建本地知识库。\n",
    "- 记忆（Memory），通过短时记忆和长时记忆，在对话过程中存储和检索数据，让 ChatBot 记住你是谁。\n",
    "- 链（Chains），是 LangChain 中的核心机制，以特定方式封装各种功能，并通过一系列的组合，自动而灵活地完成常见用例。\n",
    "- 代理（Agents），是另一个 LangChain 中的核心机制，通过“代理”让大模型自主调用外部工具和内部工具，使强大的“智能化”自主 Agent 成为可能！你的 App 将产生自驱力！"
   ]
  },
  {
   "cell_type": "markdown",
   "metadata": {},
   "source": [
    "\n",
    "## 安装\n",
    "\n",
    "```\n",
    "pip install langchain[llms]\n",
    "pip install --upgrade langchain\n",
    "```\n",
    "\n",
    "## OpenAI API\n",
    "\n",
    "- Chat Model，聊天模型，用于产生人类和 AI 之间的对话，代表模型当然是 gpt-5.5-turbo（也就是 ChatGPT）和 GPT-4。\n",
    "- Text Model，文本模型，在 ChatGPT 出来之前，大家都使用这种模型的 API 来调用 GPT-5，文本模型的代表作是 text-davinci-003（基于 GPT3）。而在这个模型家族中，也有专门训练出来做文本嵌入的 text-embedding-ada-002，也有专门做相似度比较的模型，如 text-similarity-curie-001。\n"
   ]
  },
  {
   "cell_type": "code",
   "execution_count": 7,
   "metadata": {},
   "outputs": [],
   "source": [
    "\n",
    "import os\n",
    "os.environ[\"OPENAI_API_KEY\"] = \"sk-qFOf5Qjw5fH6bPBx6d374d643f7140A4Bc67C51989222a71\"\n",
    "os.environ[\"OPENAI_API_BASE\"] = \"https://chatapi.onechat.fun/v1\""
   ]
  },
  {
   "cell_type": "markdown",
   "metadata": {},
   "source": [
    "可以考虑把环境变量保存在.env 文件中，使用 python-dotenv 库从文件中读取它，这样也可以降低 API 密钥暴露在代码中的风险。"
   ]
  },
  {
   "cell_type": "code",
   "execution_count": 19,
   "metadata": {},
   "outputs": [
    {
     "name": "stdout",
     "output_type": "stream",
     "text": [
      "CompletionChoice(finish_reason='stop', index=0, logprobs=None, text='名字\\n\\n\"花语缘\"')\n"
     ]
    }
   ],
   "source": [
    "# 调用Text模型\n",
    "\n",
    "from openai import OpenAI\n",
    "client = OpenAI(base_url=\"https://chatapi.onechat.fun/v1\", api_key=\"sk-qFOf5Qjw5fH6bPBx6d374d643f7140A4Bc67C51989222a71\")\n",
    "\n",
    "response = client.completions.create(\n",
    "  model=\"gpt-3.5-turbo-instruct\",\n",
    "  prompt=\"给我的花店起个\",\n",
    "  max_tokens=200,\n",
    "  temperature=0.5,\n",
    ")\n",
    "print(response.choices[0])"
   ]
  },
  {
   "cell_type": "markdown",
   "metadata": {},
   "source": [
    "参数：![](https://static001.geekbang.org/resource/image/34/c3/34aaeaff93368c3c3596c12523c1ccc3.jpg?wh=3434x3607)\n",
    "输出参数：![](https://static001.geekbang.org/resource/image/4c/ce/4cb717e0258971c7e92dace9c4d8f2ce.jpg?wh=1406x634)"
   ]
  },
  {
   "cell_type": "code",
   "execution_count": 12,
   "metadata": {},
   "outputs": [
    {
     "data": {
      "text/plain": [
       "ChatCompletion(id='chatcmpl-mE1H6qzNO9MnRB7RcJkctQPsKEEkH', choices=[Choice(finish_reason='stop', index=0, logprobs=None, message=ChatCompletionMessage(content='当然了！以下是几个可能的花店名字：\\n1. 花语坊\\n2. 绚丽花园\\n3. 花漾之美\\n4. 花语天地\\n5. 花语轩\\n6. 花香庄园\\n7. 花之梦境\\n8. 花海之恋\\n9. 花语轻语\\n10. 花韵坊\\n\\n希望你能喜欢其中一个！', role='assistant', function_call=None, tool_calls=None))], created=1714617291, model='gpt-3.5-turbo', object='chat.completion', system_fingerprint=None, usage=CompletionUsage(completion_tokens=133, prompt_tokens=16, total_tokens=149))"
      ]
     },
     "execution_count": 12,
     "metadata": {},
     "output_type": "execute_result"
    }
   ],
   "source": [
    "# chat模型\n",
    "\n",
    "from openai import OpenAI\n",
    "client = OpenAI(base_url=\"https://chatapi.onechat.fun/v1\", api_key=\"sk-qFOf5Qjw5fH6bPBx6d374d643f7140A4Bc67C51989222a71\")\n",
    "response = client.chat.completions.create(\n",
    "  model=\"gpt-3.5-turbo\",\n",
    "  messages=[\n",
    "    {\n",
    "      \"role\": \"system\",\n",
    "      \"content\": \"You are a creative AI.\"\n",
    "    },\n",
    "    {\n",
    "      \"role\": \"user\",\n",
    "      \"content\": \"给我的花店起个名字\"\n",
    "    },\n",
    "  ],\n",
    "  temperature=0.5,\n",
    "  max_tokens=256\n",
    ")\n",
    "response"
   ]
  },
  {
   "cell_type": "code",
   "execution_count": 14,
   "metadata": {},
   "outputs": [
    {
     "data": {
      "text/plain": [
       "'当然了！以下是几个可能的花店名字：\\n1. 花语坊\\n2. 绚丽花园\\n3. 花漾之美\\n4. 花语天地\\n5. 花语轩\\n6. 花香庄园\\n7. 花之梦境\\n8. 花海之恋\\n9. 花语轻语\\n10. 花韵坊\\n\\n希望你能喜欢其中一个！'"
      ]
     },
     "execution_count": 14,
     "metadata": {},
     "output_type": "execute_result"
    }
   ],
   "source": [
    "response.choices[0].message.content"
   ]
  },
  {
   "cell_type": "markdown",
   "metadata": {},
   "source": [
    "相较于 Text 模型，Chat 模型的设计更适合处理对话或者多轮次交互的情况。这是因为它可以接受一个消息列表作为输入，而不仅仅是一个字符串。这个消息列表可以包含 system、user 和 assistant 的历史信息，从而在处理交互式对话时提供更多的上下文信息。\n",
    "\n",
    "这种设计的主要优点包括：\n",
    "\n",
    "- 对话历史的管理：通过使用 Chat 模型，你可以更方便地管理对话的历史，并在需要时向模型提供这些历史信息。例如，你可以将过去的用户输入和模型的回复都包含在消息列表中，这样模型在生成新的回复时就可以考虑到这些历史信息。\n",
    "- 角色模拟：通过 system 角色，你可以设定对话的背景，给模型提供额外的指导信息，从而更好地控制输出的结果。当然在 Text 模型中，你在提示中也可以为 AI 设定角色，作为输入的一部分。"
   ]
  },
  {
   "cell_type": "markdown",
   "metadata": {},
   "source": [
    "然而，对于简单的单轮文本生成任务，使用 Text 模型可能会更简单、更直接。例如，如果你只需要模型根据一个简单的提示生成一段文本，那么 Text 模型可能更适合。从上面的结果看，Chat 模型给我们输出的文本更完善，是一句完整的话，而 Text 模型输出的是几个名字。这是因为 ChatGPT 经过了对齐（基于人类反馈的强化学习），输出的答案更像是真实聊天场景。"
   ]
  },
  {
   "cell_type": "markdown",
   "metadata": {},
   "source": [
    "## 通过 LangChain 调用 Text 和 Chat 模型"
   ]
  },
  {
   "cell_type": "code",
   "execution_count": 20,
   "metadata": {},
   "outputs": [],
   "source": [
    "\n",
    "import os\n",
    "os.environ[\"OPENAI_API_KEY\"] = \"sk-qFOf5Qjw5fH6bPBx6d374d643f7140A4Bc67C51989222a71\"\n",
    "os.environ[\"OPENAI_API_BASE\"] = \"https://chatapi.onechat.fun/v1\""
   ]
  },
  {
   "cell_type": "code",
   "execution_count": 1,
   "metadata": {},
   "outputs": [],
   "source": [
    "import os\n",
    "from dotenv import load_dotenv\n",
    "load_dotenv()\n",
    "openai_api_key = os.getenv(\"OPENAI_API_KEY\")\n",
    "openai_api_base = os.getenv(\"OPENAI_API_BASE\")"
   ]
  },
  {
   "cell_type": "markdown",
   "metadata": {},
   "source": [
    "### 调用Text模型"
   ]
  },
  {
   "cell_type": "code",
   "execution_count": 30,
   "metadata": {},
   "outputs": [
    {
     "data": {
      "text/plain": [
       "'字\\n\\n\"花香缘\"'"
      ]
     },
     "execution_count": 30,
     "metadata": {},
     "output_type": "execute_result"
    }
   ],
   "source": [
    "from langchain.llms import OpenAI\n",
    "llm = OpenAI(\n",
    "    openai_api_key = openai_api_key,\n",
    "    openai_api_base = openai_api_base,\n",
    "    model = \"gpt-3.5-turbo-instruct\",\n",
    "    temperature = 0.8,\n",
    "    max_tokens = 60,\n",
    ")\n",
    "response = llm.predict(\"给我的花店起个名\")\n",
    "response"
   ]
  },
  {
   "cell_type": "markdown",
   "metadata": {},
   "source": [
    "### 调用Chat模型"
   ]
  },
  {
   "cell_type": "code",
   "execution_count": 31,
   "metadata": {},
   "outputs": [
    {
     "data": {
      "text/plain": [
       "AIMessage(content='当然可以！您可以考虑以下一些花店名称：\\n\\n1. 花语坊\\n2. 爱意花园\\n3. 花漾时光\\n4. 花之恋\\n5. 春之韵花店\\n6. 花舞人生\\n7. 花间空间\\n8. 花语天地\\n9. 爱之花苑\\n10. 花开富贵\\n\\n希望这些能够启发您，让您选择一个适合您花店的美好名称！', response_metadata={'token_usage': {'completion_tokens': 149, 'prompt_tokens': 17, 'total_tokens': 166}, 'model_name': 'gpt-3.5-turbo', 'system_fingerprint': None, 'finish_reason': 'stop', 'logprobs': None}, id='run-c3074512-bb50-4847-86c1-47f36c5c24be-0')"
      ]
     },
     "execution_count": 31,
     "metadata": {},
     "output_type": "execute_result"
    }
   ],
   "source": [
    "from langchain.chat_models import ChatOpenAI\n",
    "chat = ChatOpenAI(\n",
    "    temperature=0.9,\n",
    "    model_name=\"gpt-3.5-turbo\",\n",
    "    max_tokens=256,\n",
    ")\n",
    "\n",
    "from langchain.schema import (\n",
    "    AIMessage,\n",
    "    HumanMessage,\n",
    "    SystemMessage\n",
    ")\n",
    "\n",
    "messages = [\n",
    "    SystemMessage(content=\"You are a helpful assistant.\"),\n",
    "    HumanMessage(content=\"给我的花店起个名吧\")\n",
    "]\n",
    "\n",
    "response = chat(messages)\n",
    "response"
   ]
  },
  {
   "cell_type": "code",
   "execution_count": 28,
   "metadata": {},
   "outputs": [
    {
     "data": {
      "text/plain": [
       "'当然，很乐意帮忙！给您的花店起个名字，要考虑到您的喜好、店铺的氛围和所售卖的产品。以下是一些建议：\\n\\n1. 花语之庭\\n2. 春之恋花店\\n3. 花香园艺坊\\n4. 花韵轩\\n5. 梦幻花苑\\n6. 花语轩\\n7. 花之舞坊\\n8. 花语天地\\n9. 花意绵绵\\n10. 花语乐园\\n\\n希望这些建议能给您一些灵感，如果您有任何其他要求或者喜好，我也很乐意帮忙调整和提供更多建议。'"
      ]
     },
     "execution_count": 28,
     "metadata": {},
     "output_type": "execute_result"
    }
   ],
   "source": [
    "response.content"
   ]
  },
  {
   "cell_type": "markdown",
   "metadata": {},
   "source": [
    "### 调用huggingface预测模型"
   ]
  },
  {
   "cell_type": "code",
   "execution_count": 42,
   "metadata": {},
   "outputs": [],
   "source": [
    "import os, dotenv\n",
    "dotenv.load_dotenv()\n",
    "huggingface_api_token = os.getenv(\"HuggingFaceHub_API_TOKEN\")\n",
    "\n",
    "os.environ[\"HuggingFaceHub_API_TOKEN\"] = huggingface_api_token\n",
    "\n",
    "\n",
    "from langchain import HuggingFaceHub\n",
    "llm = HuggingFaceHub(repo_id=\"bigscience/bloom-1b7\")\n",
    "response = llm.predict(\"给我的花店起个名\")"
   ]
  },
  {
   "cell_type": "code",
   "execution_count": 45,
   "metadata": {},
   "outputs": [
    {
     "data": {
      "text/plain": [
       "'给我的花店起个名,叫\"花之恋\",寓意着\"花开两'"
      ]
     },
     "execution_count": 45,
     "metadata": {},
     "output_type": "execute_result"
    }
   ],
   "source": [
    "response"
   ]
  },
  {
   "cell_type": "code",
   "execution_count": null,
   "metadata": {},
   "outputs": [],
   "source": []
  }
 ],
 "metadata": {
  "kernelspec": {
   "display_name": "base",
   "language": "python",
   "name": "python3"
  },
  "language_info": {
   "codemirror_mode": {
    "name": "ipython",
    "version": 3
   },
   "file_extension": ".py",
   "mimetype": "text/x-python",
   "name": "python",
   "nbconvert_exporter": "python",
   "pygments_lexer": "ipython3",
   "version": "3.11.7"
  }
 },
 "nbformat": 4,
 "nbformat_minor": 2
}
